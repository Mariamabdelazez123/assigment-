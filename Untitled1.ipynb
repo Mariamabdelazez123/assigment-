{
  "metadata": {
    "kernelspec": {
      "name": "python",
      "display_name": "Python (Pyodide)",
      "language": "python"
    },
    "language_info": {
      "codemirror_mode": {
        "name": "python",
        "version": 3
      },
      "file_extension": ".py",
      "mimetype": "text/x-python",
      "name": "python",
      "nbconvert_exporter": "python",
      "pygments_lexer": "ipython3",
      "version": "3.8"
    }
  },
  "nbformat_minor": 4,
  "nbformat": 4,
  "cells": [
    {
      "cell_type": "code",
      "source": "def fibonacci(n):\n    if n <= 1:\n        return n\n    else:\n        return fibonacci(n-1) + fibonacci(n-2)\n\n\nn_terms = 10\nprint(\"Fibonacci sequence:\")\nfor i in range(n_terms):\n    print(fibonacci(i), end=\" \")\n",
      "metadata": {
        "trusted": true
      },
      "outputs": [
        {
          "name": "stdout",
          "text": "Fibonacci sequence:\n0 1 1 2 3 5 8 13 21 34 ",
          "output_type": "stream"
        }
      ],
      "execution_count": 15
    },
    {
      "cell_type": "code",
      "source": "def fibonacci(n):\n    if n == 0:\n        return 0\n    elif n == 1:\n        return 1\n    else:\n        return fibonacci(n-1) + fibonacci(n-2)\n\n\nn_terms = 8\nprint(\"Fibonacci sequence:\")\nfor i in range(n_terms):\n    print(fibonacci(i), end=\" \")\n",
      "metadata": {
        "trusted": true
      },
      "outputs": [
        {
          "name": "stdout",
          "text": "Fibonacci sequence:\n0 1 1 2 3 5 8 13 ",
          "output_type": "stream"
        }
      ],
      "execution_count": 16
    },
    {
      "cell_type": "code",
      "source": "def count_word_frequency(strings):\n    word_frequency = {}\n\n    for string in strings:\n        words = string.split()\n        for word in words:\n            word = word.lower()  \n            if word in word_frequency:\n                word_frequency[word] += 1\n            else:\n                word_frequency[word] = 1\n\n    return word_frequency\n\n\nstrings = [\n    \"This is a test string.\",\n    \"Another string for testing purposes.\",\n    \"This is a test string for counting words.\"\n]\n\nfrequency = count_word_frequency(strings)\n\n\nprint(\"Unique words and their frequencies:\")\nfor word, freq in frequency.items():\n    print(f\"{word}: {freq}\")\n",
      "metadata": {
        "trusted": true
      },
      "outputs": [
        {
          "name": "stdout",
          "text": "Unique words and their frequencies:\nthis: 2\nis: 2\na: 2\ntest: 2\nstring.: 1\nanother: 1\nstring: 2\nfor: 2\ntesting: 1\npurposes.: 1\ncounting: 1\nwords.: 1\n",
          "output_type": "stream"
        }
      ],
      "execution_count": 27
    },
    {
      "cell_type": "code",
      "source": "def find_pairs_with_sum(lst, target_sum):\n    pairs = []\n    seen = set()  \n\n    for num in lst:\n        complement = target_sum - num\n        if complement in seen:\n            pairs.append((num, complement))\n        seen.add(num)\n\n    return pairs\n\n\nnums = [1, 2, 3, 4, 5, 6, 7, 8, 9]\ntarget = 10\npairs = find_pairs_with_sum(nums, target)\n\n\nprint(f\"Pairs with sum {target}:\")\nfor pair in pairs:\n    print(pair)\n",
      "metadata": {
        "trusted": true
      },
      "outputs": [
        {
          "name": "stdout",
          "text": "Pairs with sum 10:\n(6, 4)\n(7, 3)\n(8, 2)\n(9, 1)\n",
          "output_type": "stream"
        }
      ],
      "execution_count": 26
    },
    {
      "cell_type": "code",
      "source": "def max_product_pair(nums):\n    if len(nums) < 2:\n        return \"List should contain at least two numbers\"\n\n    max1 = float('-inf') \n    max2 = float('-inf')\n\n    min1 = float('inf')  \n    min2 = float('inf')\n\n    for num in nums:\n        if num > max1:\n            max2 = max1\n            max1 = num\n        elif num > max2:\n            max2 = num\n\n        if num < min1:\n            min2 = min1\n            min1 = num\n        elif num < min2:\n            min2 = num\n\n    product1 = max1 * max2\n    product2 = min1 * min2\n\n    if product1 > product2:\n        return max1, max2\n    else:\n        return min1, min2\n\n\nnumbers = [1, 2, 3, 4, 5, 6, 7, 8, 9]\nresult = max_product_pair(numbers)\nprint(\"The two numbers whose product is maximum among all pairs:\", result)\n",
      "metadata": {
        "trusted": true
      },
      "outputs": [
        {
          "name": "stdout",
          "text": "The two numbers whose product is maximum among all pairs: (9, 8)\n",
          "output_type": "stream"
        }
      ],
      "execution_count": 25
    },
    {
      "cell_type": "code",
      "source": "def is_prime(n):\n    if n <= 1:\n        return False\n    elif n <= 3:\n        return True\n    elif n % 2 == 0 or n % 3 == 0:\n        return False\n    i = 5\n    while i * i <= n:\n        if n % i == 0 or n % (i + 2) == 0:\n            return False\n        i += 6\n    return True\n\n\nnum = 17\nif is_prime(num):\n    print(f\"{num} is a prime number\")\nelse:\n    print(f\"{num} is not a prime number\")\n",
      "metadata": {
        "trusted": true
      },
      "outputs": [
        {
          "name": "stdout",
          "text": "17 is a prime number\n",
          "output_type": "stream"
        }
      ],
      "execution_count": 24
    },
    {
      "cell_type": "code",
      "source": "def print_even_numbers(nums):\n    for num in nums:\n        if num % 2 == 0:\n            print(num)\n\n\nnumbers = [1, 2, 3, 4, 5, 6, 7, 8, 9, 10]\nprint(\"Even numbers:\")\nprint_even_numbers(numbers)\n",
      "metadata": {
        "trusted": true
      },
      "outputs": [
        {
          "name": "stdout",
          "text": "Even numbers:\n2\n4\n6\n8\n10\n",
          "output_type": "stream"
        }
      ],
      "execution_count": 23
    },
    {
      "cell_type": "code",
      "source": "def reverse_words(string):\n    \n    words = string.split()\n   \n    reversed_words = words[::-1]\n   \n    reversed_string = ' '.join(reversed_words)\n    return reversed_string\n\n# Test the function\ninput_string = \"Hello world\"\noutput_string = reverse_words(input_string)\nprint(\"Original string:\", input_string)\nprint(\"Reversed string:\", output_string)\n",
      "metadata": {
        "trusted": true
      },
      "outputs": [
        {
          "name": "stdout",
          "text": "Original string: Hello world\nReversed string: world Hello\n",
          "output_type": "stream"
        }
      ],
      "execution_count": 22
    },
    {
      "cell_type": "code",
      "source": "def is_palindrome(x):\n    if x < 0:\n        return False\n    else:\n        return str(x) == str(x)[::-1]\n\n# Test the function\nprint(is_palindrome(121)) \nprint(is_palindrome(-121)) \nprint(is_palindrome(10))   \n",
      "metadata": {
        "trusted": true
      },
      "outputs": [
        {
          "name": "stdout",
          "text": "True\nFalse\nFalse\n",
          "output_type": "stream"
        }
      ],
      "execution_count": 21
    },
    {
      "cell_type": "code",
      "source": "def is_palindrome(string):\n    clean_string = ''.join(char.lower() for char in string if char.isalnum())\n  \n    return clean_string == clean_string[::-1]\n\n# Test the function\nprint(is_palindrome(\"A man, a plan, a canal, Panama\"))  \nprint(is_palindrome(\"racecar\"))  #\nprint(is_palindrome(\"hello\"))    \n",
      "metadata": {
        "trusted": true
      },
      "outputs": [
        {
          "name": "stdout",
          "text": "True\nTrue\nFalse\n",
          "output_type": "stream"
        }
      ],
      "execution_count": 20
    },
    {
      "cell_type": "code",
      "source": "def squares_list():\n    \n    squares = [i ** 2 for i in range(1, 31)]\n    return squares\n\n\nsquares = squares_list()\nprint(\"Squares of numbers from 1 to 30:\")\nprint(squares)\n",
      "metadata": {
        "trusted": true
      },
      "outputs": [
        {
          "name": "stdout",
          "text": "Squares of numbers from 1 to 30:\n[1, 4, 9, 16, 25, 36, 49, 64, 81, 100, 121, 144, 169, 196, 225, 256, 289, 324, 361, 400, 441, 484, 529, 576, 625, 676, 729, 784, 841, 900]\n",
          "output_type": "stream"
        }
      ],
      "execution_count": 19
    },
    {
      "cell_type": "code",
      "source": "from itertools import permutations\n\ndef generate_permutations(lst):\n   \n    permuted = permutations(lst)\n \n    result = [list(perm) for perm in permuted]\n    return result\n\n\nmy_list = [1, 2, 3]\npermutations_list = generate_permutations(my_list)\nprint(\"All permutations of the list:\", permutations_list)\n",
      "metadata": {
        "trusted": true
      },
      "outputs": [
        {
          "name": "stdout",
          "text": "All permutations of the list: [[1, 2, 3], [1, 3, 2], [2, 1, 3], [2, 3, 1], [3, 1, 2], [3, 2, 1]]\n",
          "output_type": "stream"
        }
      ],
      "execution_count": 18
    },
    {
      "cell_type": "code",
      "source": "def outer_function():\n    def inner_function():\n        print(\"This is the inner function\")\n\n    print(\"This is the outer function\")\n    inner_function()  \n\n\nouter_function()\n",
      "metadata": {
        "trusted": true
      },
      "outputs": [
        {
          "name": "stdout",
          "text": "This is the outer function\nThis is the inner function\n",
          "output_type": "stream"
        }
      ],
      "execution_count": 17
    }
  ]
}